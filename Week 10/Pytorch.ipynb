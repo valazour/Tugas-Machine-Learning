{
  "nbformat": 4,
  "nbformat_minor": 0,
  "metadata": {
    "colab": {
      "name": "Pytorch.ipynb",
      "provenance": [],
      "collapsed_sections": [],
      "authorship_tag": "ABX9TyM6ldsReEQfOZDHtSQsVp+3",
      "include_colab_link": true
    },
    "kernelspec": {
      "name": "python3",
      "display_name": "Python 3"
    },
    "language_info": {
      "name": "python"
    }
  },
  "cells": [
    {
      "cell_type": "markdown",
      "metadata": {
        "id": "view-in-github",
        "colab_type": "text"
      },
      "source": [
        "<a href=\"https://colab.research.google.com/github/valazour/Tugas-Machine-Learning/blob/main/Pytorch.ipynb\" target=\"_parent\"><img src=\"https://colab.research.google.com/assets/colab-badge.svg\" alt=\"Open In Colab\"/></a>"
      ]
    },
    {
      "cell_type": "code",
      "execution_count": 1,
      "metadata": {
        "id": "FpiFSmYY4CMg"
      },
      "outputs": [],
      "source": [
        "%matplotlib inline"
      ]
    },
    {
      "cell_type": "markdown",
      "source": [
        "# **Pytorch A**"
      ],
      "metadata": {
        "id": "q-avER8n55F-"
      }
    },
    {
      "cell_type": "markdown",
      "source": [
        "## **0. Working with data**"
      ],
      "metadata": {
        "id": "E5m2DvTZ53VA"
      }
    },
    {
      "cell_type": "code",
      "source": [
        "import torch\n",
        "from torch import nn\n",
        "from torch.utils.data import DataLoader\n",
        "from torchvision import datasets\n",
        "from torchvision.transforms import ToTensor, Lambda, Compose\n",
        "import matplotlib.pyplot as plt"
      ],
      "metadata": {
        "id": "WA7Aydg25GGy"
      },
      "execution_count": 2,
      "outputs": []
    },
    {
      "cell_type": "code",
      "source": [
        "training_data = datasets.FashionMNIST(\n",
        "    root=\"data\",\n",
        "    train=True,\n",
        "    download=True,\n",
        "    transform=ToTensor(),\n",
        ")\n",
        "\n",
        "test_data = datasets.FashionMNIST(\n",
        "    root=\"data\",\n",
        "    train=False,\n",
        "    download=True,\n",
        "    transform=ToTensor(),\n",
        ")"
      ],
      "metadata": {
        "id": "09bCSwpx5GDs"
      },
      "execution_count": 4,
      "outputs": []
    },
    {
      "cell_type": "markdown",
      "source": [
        "## **1. TENSORS**"
      ],
      "metadata": {
        "id": "6vfwWriV6Wvr"
      }
    },
    {
      "cell_type": "code",
      "source": [
        "import torch\n",
        "import numpy as np"
      ],
      "metadata": {
        "id": "d4kPUiuz5GBP"
      },
      "execution_count": 5,
      "outputs": []
    },
    {
      "cell_type": "code",
      "source": [
        "data = [[1, 2],[3, 4]]\n",
        "x_data = torch.tensor(data)\n",
        "x_data"
      ],
      "metadata": {
        "colab": {
          "base_uri": "https://localhost:8080/"
        },
        "id": "DTLEjz0O5F-1",
        "outputId": "4e030bfa-6f99-411d-d7f5-ec99fe220a8b"
      },
      "execution_count": 6,
      "outputs": [
        {
          "output_type": "execute_result",
          "data": {
            "text/plain": [
              "tensor([[1, 2],\n",
              "        [3, 4]])"
            ]
          },
          "metadata": {},
          "execution_count": 6
        }
      ]
    },
    {
      "cell_type": "code",
      "source": [
        "np_array = np.array(data)\n",
        "x_np = torch.from_numpy(np_array)\n",
        "print(f\"np array: \\n {np_array} \\n\")\n",
        "print(f\"tensor  : \\n {x_np} \\n\")"
      ],
      "metadata": {
        "colab": {
          "base_uri": "https://localhost:8080/"
        },
        "id": "UoTFQZ6y5F8j",
        "outputId": "7cfa1649-5562-410a-a71e-2fa6f2a67453"
      },
      "execution_count": 7,
      "outputs": [
        {
          "output_type": "stream",
          "name": "stdout",
          "text": [
            "np array: \n",
            " [[1 2]\n",
            " [3 4]] \n",
            "\n",
            "tensor  : \n",
            " tensor([[1, 2],\n",
            "        [3, 4]]) \n",
            "\n"
          ]
        }
      ]
    },
    {
      "cell_type": "code",
      "source": [
        "x_ones = torch.ones_like(x_data) # retains the properties of x_data\n",
        "print(f\"Ones Tensor: \\n {x_ones} \\n\")\n",
        "\n",
        "x_rand = torch.rand_like(x_data, dtype=torch.float) # overrides the datatype of x_data\n",
        "print(f\"Random Tensor: \\n {x_rand} \\n\")"
      ],
      "metadata": {
        "colab": {
          "base_uri": "https://localhost:8080/"
        },
        "id": "z82cybjX5F6N",
        "outputId": "3d769710-0e85-4b8a-be84-21bb9bb4ded2"
      },
      "execution_count": 8,
      "outputs": [
        {
          "output_type": "stream",
          "name": "stdout",
          "text": [
            "Ones Tensor: \n",
            " tensor([[1, 1],\n",
            "        [1, 1]]) \n",
            "\n",
            "Random Tensor: \n",
            " tensor([[0.2057, 0.4722],\n",
            "        [0.0532, 0.7640]]) \n",
            "\n"
          ]
        }
      ]
    },
    {
      "cell_type": "code",
      "source": [
        "shape = (2,3,)\n",
        "rand_tensor = torch.rand(shape)\n",
        "ones_tensor = torch.ones(shape)\n",
        "zeros_tensor = torch.zeros(shape)\n",
        "\n",
        "print(f\"Random Tensor: \\n {rand_tensor} \\n\")\n",
        "print(f\"Ones Tensor: \\n {ones_tensor} \\n\")\n",
        "print(f\"Zeros Tensor: \\n {zeros_tensor}\")"
      ],
      "metadata": {
        "colab": {
          "base_uri": "https://localhost:8080/"
        },
        "id": "oRG6v6vy5F3w",
        "outputId": "8e160825-bde8-4540-d7ce-4b33d85685ec"
      },
      "execution_count": 9,
      "outputs": [
        {
          "output_type": "stream",
          "name": "stdout",
          "text": [
            "Random Tensor: \n",
            " tensor([[0.8266, 0.6980, 0.8244],\n",
            "        [0.0249, 0.6454, 0.2456]]) \n",
            "\n",
            "Ones Tensor: \n",
            " tensor([[1., 1., 1.],\n",
            "        [1., 1., 1.]]) \n",
            "\n",
            "Zeros Tensor: \n",
            " tensor([[0., 0., 0.],\n",
            "        [0., 0., 0.]])\n"
          ]
        }
      ]
    },
    {
      "cell_type": "code",
      "source": [
        "tensor = torch.rand(3,4)\n",
        "\n",
        "print(f\"Shape of tensor: {tensor.shape}\")\n",
        "print(f\"Datatype of tensor: {tensor.dtype}\")\n",
        "print(f\"Device tensor is stored on: {tensor.device}\")"
      ],
      "metadata": {
        "colab": {
          "base_uri": "https://localhost:8080/"
        },
        "id": "y6e41WbE5F1V",
        "outputId": "3c3469a2-0f13-4dcd-8256-37f09600380a"
      },
      "execution_count": 10,
      "outputs": [
        {
          "output_type": "stream",
          "name": "stdout",
          "text": [
            "Shape of tensor: torch.Size([3, 4])\n",
            "Datatype of tensor: torch.float32\n",
            "Device tensor is stored on: cpu\n"
          ]
        }
      ]
    },
    {
      "cell_type": "code",
      "source": [
        "if torch.cuda.is_available():\n",
        "    tensor = tensor.to('cuda')"
      ],
      "metadata": {
        "id": "H5lk3V_q5Fy5"
      },
      "execution_count": 11,
      "outputs": []
    },
    {
      "cell_type": "code",
      "source": [
        "tensor = torch.ones(4, 4)\n",
        "print('First row: ', tensor[0])\n",
        "print('First column: ', tensor[:, 0])\n",
        "print('Last column:', tensor[..., -1])\n",
        "tensor[:,1] = 0\n",
        "print(tensor)"
      ],
      "metadata": {
        "colab": {
          "base_uri": "https://localhost:8080/"
        },
        "id": "-E5z900y5Fwn",
        "outputId": "8afc7b61-f993-420e-8590-cc517a7c0cde"
      },
      "execution_count": 12,
      "outputs": [
        {
          "output_type": "stream",
          "name": "stdout",
          "text": [
            "First row:  tensor([1., 1., 1., 1.])\n",
            "First column:  tensor([1., 1., 1., 1.])\n",
            "Last column: tensor([1., 1., 1., 1.])\n",
            "tensor([[1., 0., 1., 1.],\n",
            "        [1., 0., 1., 1.],\n",
            "        [1., 0., 1., 1.],\n",
            "        [1., 0., 1., 1.]])\n"
          ]
        }
      ]
    },
    {
      "cell_type": "code",
      "source": [
        "t1 = torch.cat([tensor, tensor, tensor], dim=1)\n",
        "print(t1)"
      ],
      "metadata": {
        "colab": {
          "base_uri": "https://localhost:8080/"
        },
        "id": "DRXaie6W5FuY",
        "outputId": "02ea2d8f-a892-48c1-90e8-07a2aa2c6bb2"
      },
      "execution_count": 13,
      "outputs": [
        {
          "output_type": "stream",
          "name": "stdout",
          "text": [
            "tensor([[1., 0., 1., 1., 1., 0., 1., 1., 1., 0., 1., 1.],\n",
            "        [1., 0., 1., 1., 1., 0., 1., 1., 1., 0., 1., 1.],\n",
            "        [1., 0., 1., 1., 1., 0., 1., 1., 1., 0., 1., 1.],\n",
            "        [1., 0., 1., 1., 1., 0., 1., 1., 1., 0., 1., 1.]])\n"
          ]
        }
      ]
    },
    {
      "cell_type": "code",
      "source": [
        "y1 = tensor @ tensor.T\n",
        "y2 = tensor.matmul(tensor.T)\n",
        "\n",
        "y3 = torch.rand_like(tensor)\n",
        "torch.matmul(tensor, tensor.T, out=y3)\n",
        "\n",
        "print(f\"y1 : {y1}\")\n",
        "print(f\"y2 : {y2}\")\n",
        "print(f\"y3 : {y3}\")"
      ],
      "metadata": {
        "colab": {
          "base_uri": "https://localhost:8080/"
        },
        "id": "wfjJRW2P5FsD",
        "outputId": "2be08a6b-bccd-4ba6-c762-e8db8c493368"
      },
      "execution_count": 14,
      "outputs": [
        {
          "output_type": "stream",
          "name": "stdout",
          "text": [
            "y1 : tensor([[3., 3., 3., 3.],\n",
            "        [3., 3., 3., 3.],\n",
            "        [3., 3., 3., 3.],\n",
            "        [3., 3., 3., 3.]])\n",
            "y2 : tensor([[3., 3., 3., 3.],\n",
            "        [3., 3., 3., 3.],\n",
            "        [3., 3., 3., 3.],\n",
            "        [3., 3., 3., 3.]])\n",
            "y3 : tensor([[3., 3., 3., 3.],\n",
            "        [3., 3., 3., 3.],\n",
            "        [3., 3., 3., 3.],\n",
            "        [3., 3., 3., 3.]])\n"
          ]
        }
      ]
    },
    {
      "cell_type": "code",
      "source": [
        "z1 = tensor * tensor\n",
        "z2 = tensor.mul(tensor)\n",
        "\n",
        "z3 = torch.rand_like(tensor)\n",
        "torch.mul(tensor, tensor, out=z3)"
      ],
      "metadata": {
        "colab": {
          "base_uri": "https://localhost:8080/"
        },
        "id": "9LtN5a9-5FqG",
        "outputId": "4969a1ad-417d-48a6-c533-cb7ea45ce617"
      },
      "execution_count": 15,
      "outputs": [
        {
          "output_type": "execute_result",
          "data": {
            "text/plain": [
              "tensor([[1., 0., 1., 1.],\n",
              "        [1., 0., 1., 1.],\n",
              "        [1., 0., 1., 1.],\n",
              "        [1., 0., 1., 1.]])"
            ]
          },
          "metadata": {},
          "execution_count": 15
        }
      ]
    },
    {
      "cell_type": "code",
      "source": [
        "agg = tensor.sum()\n",
        "agg_item = agg.item()\n",
        "print(agg_item, type(agg_item))"
      ],
      "metadata": {
        "colab": {
          "base_uri": "https://localhost:8080/"
        },
        "id": "GBoNgm155Fnt",
        "outputId": "d9e06e6b-eb01-4afc-e8d3-dbe58b66bf33"
      },
      "execution_count": 16,
      "outputs": [
        {
          "output_type": "stream",
          "name": "stdout",
          "text": [
            "12.0 <class 'float'>\n"
          ]
        }
      ]
    },
    {
      "cell_type": "code",
      "source": [
        "print(tensor, \"\\n\")\n",
        "tensor.add_(5)\n",
        "print(tensor)"
      ],
      "metadata": {
        "colab": {
          "base_uri": "https://localhost:8080/"
        },
        "id": "dX_A2Oau5Flw",
        "outputId": "f3b0f24d-b415-46c0-f571-d875d815771f"
      },
      "execution_count": 17,
      "outputs": [
        {
          "output_type": "stream",
          "name": "stdout",
          "text": [
            "tensor([[1., 0., 1., 1.],\n",
            "        [1., 0., 1., 1.],\n",
            "        [1., 0., 1., 1.],\n",
            "        [1., 0., 1., 1.]]) \n",
            "\n",
            "tensor([[6., 5., 6., 6.],\n",
            "        [6., 5., 6., 6.],\n",
            "        [6., 5., 6., 6.],\n",
            "        [6., 5., 6., 6.]])\n"
          ]
        }
      ]
    },
    {
      "cell_type": "code",
      "source": [
        "t = torch.ones(5)\n",
        "print(f\"t: {t}\")\n",
        "n = t.numpy()\n",
        "print(f\"n: {n}\")"
      ],
      "metadata": {
        "colab": {
          "base_uri": "https://localhost:8080/"
        },
        "id": "GUtpzokg5Fjg",
        "outputId": "ce70b103-445d-4aba-b090-c40de2b59766"
      },
      "execution_count": 18,
      "outputs": [
        {
          "output_type": "stream",
          "name": "stdout",
          "text": [
            "t: tensor([1., 1., 1., 1., 1.])\n",
            "n: [1. 1. 1. 1. 1.]\n"
          ]
        }
      ]
    },
    {
      "cell_type": "code",
      "source": [
        "t.add_(1)\n",
        "print(f\"t: {t}\")\n",
        "print(f\"n: {n}\")"
      ],
      "metadata": {
        "colab": {
          "base_uri": "https://localhost:8080/"
        },
        "id": "KumA3VRC5FhK",
        "outputId": "105f492c-e071-4788-81f4-8c33ee88d8ec"
      },
      "execution_count": 19,
      "outputs": [
        {
          "output_type": "stream",
          "name": "stdout",
          "text": [
            "t: tensor([2., 2., 2., 2., 2.])\n",
            "n: [2. 2. 2. 2. 2.]\n"
          ]
        }
      ]
    },
    {
      "cell_type": "code",
      "source": [
        "n = np.ones(5)\n",
        "t = torch.from_numpy(n)\n",
        "\n",
        "print(f\"n: {n}\")\n",
        "print(f\"t: {t}\")"
      ],
      "metadata": {
        "colab": {
          "base_uri": "https://localhost:8080/"
        },
        "id": "fvSmFP4i5FdY",
        "outputId": "4a1f74bf-bf02-4253-9714-5a52ded31c56"
      },
      "execution_count": 20,
      "outputs": [
        {
          "output_type": "stream",
          "name": "stdout",
          "text": [
            "n: [1. 1. 1. 1. 1.]\n",
            "t: tensor([1., 1., 1., 1., 1.], dtype=torch.float64)\n"
          ]
        }
      ]
    },
    {
      "cell_type": "code",
      "source": [
        "np.add(n, 1, out=n)\n",
        "\n",
        "print(f\"n: {n}\")\n",
        "print(f\"t: {t}\")"
      ],
      "metadata": {
        "colab": {
          "base_uri": "https://localhost:8080/"
        },
        "id": "lytJwZ6J5Fa9",
        "outputId": "f8ec8ef6-2f61-4c54-e266-645d7d4b1a5b"
      },
      "execution_count": 21,
      "outputs": [
        {
          "output_type": "stream",
          "name": "stdout",
          "text": [
            "n: [2. 2. 2. 2. 2.]\n",
            "t: tensor([2., 2., 2., 2., 2.], dtype=torch.float64)\n"
          ]
        }
      ]
    },
    {
      "cell_type": "markdown",
      "source": [
        "# **Pytorch B**"
      ],
      "metadata": {
        "id": "syW0s3JK7bKP"
      }
    },
    {
      "cell_type": "markdown",
      "source": [
        "## **2. DATASETS & DATALOADERS**"
      ],
      "metadata": {
        "id": "V8aQBboX7bEJ"
      }
    },
    {
      "cell_type": "code",
      "source": [
        "import torch\n",
        "from torch.utils.data import Dataset\n",
        "from torchvision import datasets\n",
        "from torchvision.transforms import ToTensor\n",
        "import matplotlib.pyplot as plt\n",
        "\n",
        "\n",
        "training_data = datasets.FashionMNIST(\n",
        "    root=\"data\",\n",
        "    train=True,\n",
        "    download=True,\n",
        "    transform=ToTensor()\n",
        ")\n",
        "\n",
        "test_data = datasets.FashionMNIST(\n",
        "    root=\"data\",\n",
        "    train=False,\n",
        "    download=True,\n",
        "    transform=ToTensor()\n",
        ")"
      ],
      "metadata": {
        "id": "1UEgvTJg5FZD"
      },
      "execution_count": 22,
      "outputs": []
    },
    {
      "cell_type": "markdown",
      "source": [
        "## **3. TRANSFORMS**"
      ],
      "metadata": {
        "id": "KDJdI40O7n7G"
      }
    },
    {
      "cell_type": "code",
      "source": [
        "ds = datasets.FashionMNIST(\n",
        "    root=\"data\",\n",
        "    train=True,\n",
        "    download=True,\n",
        "    transform=ToTensor(),\n",
        "    target_transform=Lambda(lambda y: torch.zeros(10, dtype=torch.float).scatter_(0, torch.tensor(y), value=1))\n",
        ")"
      ],
      "metadata": {
        "id": "adO-wR6v7VIf"
      },
      "execution_count": 23,
      "outputs": []
    },
    {
      "cell_type": "markdown",
      "source": [
        "## **4. BUILD THE NEURAL NETWORK**"
      ],
      "metadata": {
        "id": "jZPQ6jse78za"
      }
    },
    {
      "cell_type": "code",
      "source": [
        "import os\n",
        "import torch\n",
        "from torch import nn\n",
        "from torch.utils.data import DataLoader\n",
        "from torchvision import datasets, transforms"
      ],
      "metadata": {
        "id": "fkL9N4NJ7VGL"
      },
      "execution_count": 24,
      "outputs": []
    },
    {
      "cell_type": "code",
      "source": [
        "device = 'cuda' if torch.cuda.is_available() else 'cpu'\n",
        "print(f'Using {device} device')"
      ],
      "metadata": {
        "colab": {
          "base_uri": "https://localhost:8080/"
        },
        "id": "M5MDhOw27VET",
        "outputId": "fe6e314e-75eb-4cda-eb69-acff4ccf8a36"
      },
      "execution_count": 25,
      "outputs": [
        {
          "output_type": "stream",
          "name": "stdout",
          "text": [
            "Using cpu device\n"
          ]
        }
      ]
    },
    {
      "cell_type": "code",
      "source": [
        "class NeuralNetwork(nn.Module):\n",
        "    def __init__(self):\n",
        "        super(NeuralNetwork, self).__init__()\n",
        "        self.flatten = nn.Flatten()\n",
        "        self.linear_relu_stack = nn.Sequential(\n",
        "            nn.Linear(28*28, 512),\n",
        "            nn.ReLU(),\n",
        "            nn.Linear(512, 512),\n",
        "            nn.ReLU(),\n",
        "            nn.Linear(512, 10),\n",
        "        )\n",
        "\n",
        "    def forward(self, x):\n",
        "        x = self.flatten(x)\n",
        "        logits = self.linear_relu_stack(x)\n",
        "        return logits"
      ],
      "metadata": {
        "id": "MUP4aEzB7VCJ"
      },
      "execution_count": 26,
      "outputs": []
    },
    {
      "cell_type": "code",
      "source": [
        "model = NeuralNetwork().to(device)\n",
        "print(model)"
      ],
      "metadata": {
        "colab": {
          "base_uri": "https://localhost:8080/"
        },
        "id": "3ZISUqDl7U_7",
        "outputId": "db7ce010-4cfc-489d-b289-9503d698e243"
      },
      "execution_count": 27,
      "outputs": [
        {
          "output_type": "stream",
          "name": "stdout",
          "text": [
            "NeuralNetwork(\n",
            "  (flatten): Flatten(start_dim=1, end_dim=-1)\n",
            "  (linear_relu_stack): Sequential(\n",
            "    (0): Linear(in_features=784, out_features=512, bias=True)\n",
            "    (1): ReLU()\n",
            "    (2): Linear(in_features=512, out_features=512, bias=True)\n",
            "    (3): ReLU()\n",
            "    (4): Linear(in_features=512, out_features=10, bias=True)\n",
            "  )\n",
            ")\n"
          ]
        }
      ]
    },
    {
      "cell_type": "code",
      "source": [
        "X = torch.rand(1, 28, 28, device=device)\n",
        "logits = model(X)\n",
        "pred_probab = nn.Softmax(dim=1)(logits)\n",
        "y_pred = pred_probab.argmax(1)\n",
        "print(f\"Predicted class: {y_pred}\")"
      ],
      "metadata": {
        "colab": {
          "base_uri": "https://localhost:8080/"
        },
        "id": "ROJAPdB_7U97",
        "outputId": "b329b883-fb56-4f37-dedf-d52908b597af"
      },
      "execution_count": 28,
      "outputs": [
        {
          "output_type": "stream",
          "name": "stdout",
          "text": [
            "Predicted class: tensor([5])\n"
          ]
        }
      ]
    },
    {
      "cell_type": "code",
      "source": [
        "input_image = torch.rand(3,28,28)\n",
        "print(input_image.size())"
      ],
      "metadata": {
        "colab": {
          "base_uri": "https://localhost:8080/"
        },
        "id": "fGoBIfe-7U7_",
        "outputId": "d1f0c87a-0809-4622-c90f-4fa52d99192e"
      },
      "execution_count": 29,
      "outputs": [
        {
          "output_type": "stream",
          "name": "stdout",
          "text": [
            "torch.Size([3, 28, 28])\n"
          ]
        }
      ]
    },
    {
      "cell_type": "code",
      "source": [
        "flatten = nn.Flatten()\n",
        "flat_image = flatten(input_image)\n",
        "print(flat_image.size())"
      ],
      "metadata": {
        "colab": {
          "base_uri": "https://localhost:8080/"
        },
        "id": "Xq8WacjH7U6M",
        "outputId": "fd6f4370-eac3-4515-f964-346d2f58495b"
      },
      "execution_count": 30,
      "outputs": [
        {
          "output_type": "stream",
          "name": "stdout",
          "text": [
            "torch.Size([3, 784])\n"
          ]
        }
      ]
    },
    {
      "cell_type": "code",
      "source": [
        "layer1 = nn.Linear(in_features=28*28, out_features=20)\n",
        "hidden1 = layer1(flat_image)\n",
        "print(hidden1.size())"
      ],
      "metadata": {
        "colab": {
          "base_uri": "https://localhost:8080/"
        },
        "id": "ja82Vigi7U4O",
        "outputId": "248d2773-aa0e-4aae-9af6-f800ba1f804b"
      },
      "execution_count": 31,
      "outputs": [
        {
          "output_type": "stream",
          "name": "stdout",
          "text": [
            "torch.Size([3, 20])\n"
          ]
        }
      ]
    },
    {
      "cell_type": "code",
      "source": [
        "print(f\"Before ReLU: {hidden1}\\n\\n\")\n",
        "hidden1 = nn.ReLU()(hidden1)\n",
        "print(f\"After ReLU: {hidden1}\")"
      ],
      "metadata": {
        "colab": {
          "base_uri": "https://localhost:8080/"
        },
        "id": "1l0H1cxD7U2J",
        "outputId": "2b9fd074-f081-4f41-be81-7763b6e0e476"
      },
      "execution_count": 32,
      "outputs": [
        {
          "output_type": "stream",
          "name": "stdout",
          "text": [
            "Before ReLU: tensor([[ 2.6454e-03, -2.0123e-01, -1.7396e-01, -3.8504e-01,  1.8700e-01,\n",
            "         -1.6785e-01, -2.0174e-01, -1.9291e-01, -2.7712e-01,  5.1384e-02,\n",
            "          1.2579e-02, -7.2373e-01, -1.9142e-01, -4.5593e-01,  1.8681e-03,\n",
            "         -7.9836e-02, -2.3248e-01,  2.4712e-01, -5.4319e-01, -2.5269e-04],\n",
            "        [ 5.8553e-02, -2.0473e-01, -8.1673e-02, -3.2846e-01,  4.5928e-01,\n",
            "         -3.2760e-01, -2.1622e-01, -3.2995e-01,  1.6068e-01,  1.8988e-01,\n",
            "          2.1217e-01, -4.1894e-01, -3.3476e-01, -1.9976e-01, -4.2788e-02,\n",
            "         -5.8504e-03, -5.7833e-01, -6.7309e-03, -1.7676e-01, -2.0331e-01],\n",
            "        [ 6.7058e-02, -2.2861e-01, -3.2619e-02, -3.9923e-01,  3.2148e-01,\n",
            "         -3.2680e-01, -9.5767e-02, -4.2703e-01, -4.1419e-01,  4.1087e-01,\n",
            "         -9.9601e-02, -3.2828e-01, -7.7758e-02, -1.4144e-01,  1.9269e-01,\n",
            "         -1.3917e-03, -4.5555e-01, -9.4864e-02, -2.0047e-01,  5.7299e-02]],\n",
            "       grad_fn=<AddmmBackward0>)\n",
            "\n",
            "\n",
            "After ReLU: tensor([[0.0026, 0.0000, 0.0000, 0.0000, 0.1870, 0.0000, 0.0000, 0.0000, 0.0000,\n",
            "         0.0514, 0.0126, 0.0000, 0.0000, 0.0000, 0.0019, 0.0000, 0.0000, 0.2471,\n",
            "         0.0000, 0.0000],\n",
            "        [0.0586, 0.0000, 0.0000, 0.0000, 0.4593, 0.0000, 0.0000, 0.0000, 0.1607,\n",
            "         0.1899, 0.2122, 0.0000, 0.0000, 0.0000, 0.0000, 0.0000, 0.0000, 0.0000,\n",
            "         0.0000, 0.0000],\n",
            "        [0.0671, 0.0000, 0.0000, 0.0000, 0.3215, 0.0000, 0.0000, 0.0000, 0.0000,\n",
            "         0.4109, 0.0000, 0.0000, 0.0000, 0.0000, 0.1927, 0.0000, 0.0000, 0.0000,\n",
            "         0.0000, 0.0573]], grad_fn=<ReluBackward0>)\n"
          ]
        }
      ]
    },
    {
      "cell_type": "code",
      "source": [
        "seq_modules = nn.Sequential(\n",
        "    flatten,\n",
        "    layer1,\n",
        "    nn.ReLU(),\n",
        "    nn.Linear(20, 10)\n",
        ")\n",
        "input_image = torch.rand(3,28,28)\n",
        "logits = seq_modules(input_image)"
      ],
      "metadata": {
        "id": "Gv3aw3Cb7U0G"
      },
      "execution_count": 33,
      "outputs": []
    },
    {
      "cell_type": "code",
      "source": [
        "softmax = nn.Softmax(dim=1)\n",
        "pred_probab = softmax(logits)"
      ],
      "metadata": {
        "id": "BGL8N71D7UyO"
      },
      "execution_count": 34,
      "outputs": []
    },
    {
      "cell_type": "code",
      "source": [
        "print(\"Model structure: \", model, \"\\n\\n\")\n",
        "\n",
        "for name, param in model.named_parameters():\n",
        "    print(f\"Layer: {name} | Size: {param.size()} | Values : {param[:2]} \\n\")"
      ],
      "metadata": {
        "colab": {
          "base_uri": "https://localhost:8080/"
        },
        "id": "sugl19Qw7UwC",
        "outputId": "2b704a35-f3e9-410c-d5f2-35483f50ecf0"
      },
      "execution_count": 35,
      "outputs": [
        {
          "output_type": "stream",
          "name": "stdout",
          "text": [
            "Model structure:  NeuralNetwork(\n",
            "  (flatten): Flatten(start_dim=1, end_dim=-1)\n",
            "  (linear_relu_stack): Sequential(\n",
            "    (0): Linear(in_features=784, out_features=512, bias=True)\n",
            "    (1): ReLU()\n",
            "    (2): Linear(in_features=512, out_features=512, bias=True)\n",
            "    (3): ReLU()\n",
            "    (4): Linear(in_features=512, out_features=10, bias=True)\n",
            "  )\n",
            ") \n",
            "\n",
            "\n",
            "Layer: linear_relu_stack.0.weight | Size: torch.Size([512, 784]) | Values : tensor([[ 0.0334,  0.0136,  0.0150,  ...,  0.0285, -0.0253,  0.0202],\n",
            "        [ 0.0105,  0.0324,  0.0209,  ..., -0.0347, -0.0090, -0.0194]],\n",
            "       grad_fn=<SliceBackward0>) \n",
            "\n",
            "Layer: linear_relu_stack.0.bias | Size: torch.Size([512]) | Values : tensor([-0.0059,  0.0230], grad_fn=<SliceBackward0>) \n",
            "\n",
            "Layer: linear_relu_stack.2.weight | Size: torch.Size([512, 512]) | Values : tensor([[-0.0235, -0.0150, -0.0363,  ...,  0.0383,  0.0083, -0.0395],\n",
            "        [ 0.0040, -0.0097,  0.0156,  ..., -0.0108,  0.0391,  0.0166]],\n",
            "       grad_fn=<SliceBackward0>) \n",
            "\n",
            "Layer: linear_relu_stack.2.bias | Size: torch.Size([512]) | Values : tensor([ 0.0072, -0.0026], grad_fn=<SliceBackward0>) \n",
            "\n",
            "Layer: linear_relu_stack.4.weight | Size: torch.Size([10, 512]) | Values : tensor([[ 0.0395, -0.0072,  0.0071,  ...,  0.0307,  0.0389,  0.0330],\n",
            "        [-0.0265,  0.0390, -0.0011,  ...,  0.0105, -0.0155, -0.0247]],\n",
            "       grad_fn=<SliceBackward0>) \n",
            "\n",
            "Layer: linear_relu_stack.4.bias | Size: torch.Size([10]) | Values : tensor([-0.0081, -0.0103], grad_fn=<SliceBackward0>) \n",
            "\n"
          ]
        }
      ]
    },
    {
      "cell_type": "markdown",
      "source": [
        "## **5. AUTOMATIC DIFFERENTIATION WITH TORCH.AUTOGRAD**"
      ],
      "metadata": {
        "id": "lVXJ-3mQ8ktg"
      }
    },
    {
      "cell_type": "code",
      "source": [
        "import torch\n",
        "\n",
        "x = torch.ones(5)  # input tensor\n",
        "y = torch.zeros(3)  # expected output\n",
        "w = torch.randn(5, 3, requires_grad=True)\n",
        "b = torch.randn(3, requires_grad=True)\n",
        "z = torch.matmul(x, w)+b\n",
        "loss = torch.nn.functional.binary_cross_entropy_with_logits(z, y)"
      ],
      "metadata": {
        "id": "C_4WZ13Z7UuG"
      },
      "execution_count": 36,
      "outputs": []
    },
    {
      "cell_type": "code",
      "source": [
        "print('Gradient function for z =', z.grad_fn)\n",
        "print('Gradient function for loss =', loss.grad_fn)"
      ],
      "metadata": {
        "colab": {
          "base_uri": "https://localhost:8080/"
        },
        "id": "M6v0BBRE7Ur9",
        "outputId": "bea5d617-5a80-4a60-8257-55f28bad355b"
      },
      "execution_count": 37,
      "outputs": [
        {
          "output_type": "stream",
          "name": "stdout",
          "text": [
            "Gradient function for z = <AddBackward0 object at 0x7fde54f207d0>\n",
            "Gradient function for loss = <BinaryCrossEntropyWithLogitsBackward0 object at 0x7fde54f20310>\n"
          ]
        }
      ]
    },
    {
      "cell_type": "code",
      "source": [
        "loss.backward()\n",
        "print(w.grad)\n",
        "print(b.grad)"
      ],
      "metadata": {
        "colab": {
          "base_uri": "https://localhost:8080/"
        },
        "id": "lx8cBcvD7Up6",
        "outputId": "4a9ed9f6-53c5-45ba-925c-e7d2c830e68f"
      },
      "execution_count": 38,
      "outputs": [
        {
          "output_type": "stream",
          "name": "stdout",
          "text": [
            "tensor([[0.1445, 0.2486, 0.2736],\n",
            "        [0.1445, 0.2486, 0.2736],\n",
            "        [0.1445, 0.2486, 0.2736],\n",
            "        [0.1445, 0.2486, 0.2736],\n",
            "        [0.1445, 0.2486, 0.2736]])\n",
            "tensor([0.1445, 0.2486, 0.2736])\n"
          ]
        }
      ]
    },
    {
      "cell_type": "code",
      "source": [
        "z = torch.matmul(x, w)+b\n",
        "print(z.requires_grad)\n",
        "\n",
        "with torch.no_grad():\n",
        "    z = torch.matmul(x, w)+b\n",
        "print(z.requires_grad)"
      ],
      "metadata": {
        "colab": {
          "base_uri": "https://localhost:8080/"
        },
        "id": "nsTZQ7Dm7Un-",
        "outputId": "5aec6887-de27-4601-fe93-ad88217158fb"
      },
      "execution_count": 39,
      "outputs": [
        {
          "output_type": "stream",
          "name": "stdout",
          "text": [
            "True\n",
            "False\n"
          ]
        }
      ]
    },
    {
      "cell_type": "code",
      "source": [
        "z = torch.matmul(x, w)+b\n",
        "z_det = z.detach()\n",
        "print(z_det.requires_grad)"
      ],
      "metadata": {
        "colab": {
          "base_uri": "https://localhost:8080/"
        },
        "id": "stJZLlfb7Ulu",
        "outputId": "88b9737c-aeac-432d-f276-f7614d9e5c2a"
      },
      "execution_count": 40,
      "outputs": [
        {
          "output_type": "stream",
          "name": "stdout",
          "text": [
            "False\n"
          ]
        }
      ]
    },
    {
      "cell_type": "markdown",
      "source": [
        "## **6.OPTIMIZING MODEL PARAMETERS**"
      ],
      "metadata": {
        "id": "MIvxqo3V9B-V"
      }
    },
    {
      "cell_type": "code",
      "source": [
        "import torch\n",
        "from torch import nn\n",
        "from torch.utils.data import DataLoader\n",
        "from torchvision import datasets\n",
        "from torchvision.transforms import ToTensor, Lambda\n",
        "\n",
        "training_data = datasets.FashionMNIST(\n",
        "    root=\"data\",\n",
        "    train=True,\n",
        "    download=True,\n",
        "    transform=ToTensor()\n",
        ")\n",
        "\n",
        "test_data = datasets.FashionMNIST(\n",
        "    root=\"data\",\n",
        "    train=False,\n",
        "    download=True,\n",
        "    transform=ToTensor()\n",
        ")\n",
        "\n",
        "train_dataloader = DataLoader(training_data, batch_size=64)\n",
        "test_dataloader = DataLoader(test_data, batch_size=64)\n",
        "\n",
        "class NeuralNetwork(nn.Module):\n",
        "    def __init__(self):\n",
        "        super(NeuralNetwork, self).__init__()\n",
        "        self.flatten = nn.Flatten()\n",
        "        self.linear_relu_stack = nn.Sequential(\n",
        "            nn.Linear(28*28, 512),\n",
        "            nn.ReLU(),\n",
        "            nn.Linear(512, 512),\n",
        "            nn.ReLU(),\n",
        "            nn.Linear(512, 10),\n",
        "        )\n",
        "\n",
        "    def forward(self, x):\n",
        "        x = self.flatten(x)\n",
        "        logits = self.linear_relu_stack(x)\n",
        "        return logits\n",
        "\n",
        "model = NeuralNetwork()"
      ],
      "metadata": {
        "id": "B6JG0d897Ujy"
      },
      "execution_count": 41,
      "outputs": []
    },
    {
      "cell_type": "code",
      "source": [
        "learning_rate = 1e-3\n",
        "batch_size = 64\n",
        "epochs = 5"
      ],
      "metadata": {
        "id": "MSFtCc_s7Uhz"
      },
      "execution_count": 42,
      "outputs": []
    },
    {
      "cell_type": "code",
      "source": [
        "loss_fn = nn.CrossEntropyLoss()"
      ],
      "metadata": {
        "id": "V1l8ix0a7Uft"
      },
      "execution_count": 43,
      "outputs": []
    },
    {
      "cell_type": "code",
      "source": [
        "optimizer = torch.optim.SGD(model.parameters(), lr=learning_rate)"
      ],
      "metadata": {
        "id": "Ck1dFuB27Udz"
      },
      "execution_count": 44,
      "outputs": []
    },
    {
      "cell_type": "code",
      "source": [
        "def train_loop(dataloader, model, loss_fn, optimizer):\n",
        "    size = len(dataloader.dataset)\n",
        "    for batch, (X, y) in enumerate(dataloader):\n",
        "        pred = model(X)\n",
        "        loss = loss_fn(pred, y)\n",
        "\n",
        "        optimizer.zero_grad()\n",
        "        loss.backward()\n",
        "        optimizer.step()\n",
        "\n",
        "        if batch % 100 == 0:\n",
        "            loss, current = loss.item(), batch * len(X)\n",
        "            print(f\"loss: {loss:>7f}  [{current:>5d}/{size:>5d}]\")\n",
        "\n",
        "\n",
        "def test_loop(dataloader, model, loss_fn):\n",
        "    size = len(dataloader.dataset)\n",
        "    num_batches = len(dataloader)\n",
        "    test_loss, correct = 0, 0\n",
        "\n",
        "    with torch.no_grad():\n",
        "        for X, y in dataloader:\n",
        "            pred = model(X)\n",
        "            test_loss += loss_fn(pred, y).item()\n",
        "            correct += (pred.argmax(1) == y).type(torch.float).sum().item()\n",
        "\n",
        "    test_loss /= num_batches\n",
        "    correct /= size\n",
        "    print(f\"Test Error: \\n Accuracy: {(100*correct):>0.1f}%, Avg loss: {test_loss:>8f} \\n\")"
      ],
      "metadata": {
        "id": "oTk1agiE7Ub4"
      },
      "execution_count": 46,
      "outputs": []
    },
    {
      "cell_type": "code",
      "source": [
        "loss_fn = nn.CrossEntropyLoss()\n",
        "optimizer = torch.optim.SGD(model.parameters(), lr=learning_rate)\n",
        "\n",
        "epochs = 10\n",
        "for t in range(epochs):\n",
        "    print(f\"Epoch {t+1}\\n-------------------------------\")\n",
        "    train_loop(train_dataloader, model, loss_fn, optimizer)\n",
        "    test_loop(test_dataloader, model, loss_fn)\n",
        "print(\"Done!\")"
      ],
      "metadata": {
        "colab": {
          "base_uri": "https://localhost:8080/"
        },
        "id": "z7E_BveT7UZr",
        "outputId": "e59a37e0-2ef7-4366-b8a0-ff269d152169"
      },
      "execution_count": 47,
      "outputs": [
        {
          "output_type": "stream",
          "name": "stdout",
          "text": [
            "Epoch 1\n",
            "-------------------------------\n",
            "loss: 2.294462  [    0/60000]\n",
            "loss: 2.288434  [ 6400/60000]\n",
            "loss: 2.263887  [12800/60000]\n",
            "loss: 2.262549  [19200/60000]\n",
            "loss: 2.237915  [25600/60000]\n",
            "loss: 2.201965  [32000/60000]\n",
            "loss: 2.215580  [38400/60000]\n",
            "loss: 2.169890  [44800/60000]\n",
            "loss: 2.166998  [51200/60000]\n",
            "loss: 2.139092  [57600/60000]\n",
            "Test Error: \n",
            " Accuracy: 49.6%, Avg loss: 2.125183 \n",
            "\n",
            "Epoch 2\n",
            "-------------------------------\n",
            "loss: 2.136343  [    0/60000]\n",
            "loss: 2.125834  [ 6400/60000]\n",
            "loss: 2.061148  [12800/60000]\n",
            "loss: 2.083405  [19200/60000]\n",
            "loss: 2.019937  [25600/60000]\n",
            "loss: 1.963878  [32000/60000]\n",
            "loss: 1.989972  [38400/60000]\n",
            "loss: 1.899136  [44800/60000]\n",
            "loss: 1.911890  [51200/60000]\n",
            "loss: 1.840501  [57600/60000]\n",
            "Test Error: \n",
            " Accuracy: 57.2%, Avg loss: 1.824691 \n",
            "\n",
            "Epoch 3\n",
            "-------------------------------\n",
            "loss: 1.866914  [    0/60000]\n",
            "loss: 1.830106  [ 6400/60000]\n",
            "loss: 1.706680  [12800/60000]\n",
            "loss: 1.752771  [19200/60000]\n",
            "loss: 1.634113  [25600/60000]\n",
            "loss: 1.610248  [32000/60000]\n",
            "loss: 1.624384  [38400/60000]\n",
            "loss: 1.523427  [44800/60000]\n",
            "loss: 1.559886  [51200/60000]\n",
            "loss: 1.461028  [57600/60000]\n",
            "Test Error: \n",
            " Accuracy: 61.2%, Avg loss: 1.464827 \n",
            "\n",
            "Epoch 4\n",
            "-------------------------------\n",
            "loss: 1.537181  [    0/60000]\n",
            "loss: 1.503613  [ 6400/60000]\n",
            "loss: 1.349769  [12800/60000]\n",
            "loss: 1.429227  [19200/60000]\n",
            "loss: 1.308491  [25600/60000]\n",
            "loss: 1.327577  [32000/60000]\n",
            "loss: 1.334904  [38400/60000]\n",
            "loss: 1.255256  [44800/60000]\n",
            "loss: 1.299837  [51200/60000]\n",
            "loss: 1.211007  [57600/60000]\n",
            "Test Error: \n",
            " Accuracy: 63.2%, Avg loss: 1.221906 \n",
            "\n",
            "Epoch 5\n",
            "-------------------------------\n",
            "loss: 1.295912  [    0/60000]\n",
            "loss: 1.284672  [ 6400/60000]\n",
            "loss: 1.113311  [12800/60000]\n",
            "loss: 1.228035  [19200/60000]\n",
            "loss: 1.102071  [25600/60000]\n",
            "loss: 1.145070  [32000/60000]\n",
            "loss: 1.158347  [38400/60000]\n",
            "loss: 1.088122  [44800/60000]\n",
            "loss: 1.135943  [51200/60000]\n",
            "loss: 1.061613  [57600/60000]\n",
            "Test Error: \n",
            " Accuracy: 64.9%, Avg loss: 1.070608 \n",
            "\n",
            "Epoch 6\n",
            "-------------------------------\n",
            "loss: 1.135397  [    0/60000]\n",
            "loss: 1.145398  [ 6400/60000]\n",
            "loss: 0.957479  [12800/60000]\n",
            "loss: 1.101072  [19200/60000]\n",
            "loss: 0.975791  [25600/60000]\n",
            "loss: 1.020932  [32000/60000]\n",
            "loss: 1.047419  [38400/60000]\n",
            "loss: 0.980188  [44800/60000]\n",
            "loss: 1.027435  [51200/60000]\n",
            "loss: 0.966631  [57600/60000]\n",
            "Test Error: \n",
            " Accuracy: 66.1%, Avg loss: 0.971846 \n",
            "\n",
            "Epoch 7\n",
            "-------------------------------\n",
            "loss: 1.023550  [    0/60000]\n",
            "loss: 1.052942  [ 6400/60000]\n",
            "loss: 0.849895  [12800/60000]\n",
            "loss: 1.015345  [19200/60000]\n",
            "loss: 0.895740  [25600/60000]\n",
            "loss: 0.931822  [32000/60000]\n",
            "loss: 0.973027  [38400/60000]\n",
            "loss: 0.908009  [44800/60000]\n",
            "loss: 0.951646  [51200/60000]\n",
            "loss: 0.901887  [57600/60000]\n",
            "Test Error: \n",
            " Accuracy: 67.4%, Avg loss: 0.903400 \n",
            "\n",
            "Epoch 8\n",
            "-------------------------------\n",
            "loss: 0.940927  [    0/60000]\n",
            "loss: 0.987099  [ 6400/60000]\n",
            "loss: 0.771882  [12800/60000]\n",
            "loss: 0.953974  [19200/60000]\n",
            "loss: 0.841886  [25600/60000]\n",
            "loss: 0.865387  [32000/60000]\n",
            "loss: 0.919407  [38400/60000]\n",
            "loss: 0.858436  [44800/60000]\n",
            "loss: 0.896315  [51200/60000]\n",
            "loss: 0.854667  [57600/60000]\n",
            "Test Error: \n",
            " Accuracy: 68.5%, Avg loss: 0.853284 \n",
            "\n",
            "Epoch 9\n",
            "-------------------------------\n",
            "loss: 0.877008  [    0/60000]\n",
            "loss: 0.936759  [ 6400/60000]\n",
            "loss: 0.712815  [12800/60000]\n",
            "loss: 0.907821  [19200/60000]\n",
            "loss: 0.803085  [25600/60000]\n",
            "loss: 0.815109  [32000/60000]\n",
            "loss: 0.878274  [38400/60000]\n",
            "loss: 0.822935  [44800/60000]\n",
            "loss: 0.854760  [51200/60000]\n",
            "loss: 0.818163  [57600/60000]\n",
            "Test Error: \n",
            " Accuracy: 69.8%, Avg loss: 0.814888 \n",
            "\n",
            "Epoch 10\n",
            "-------------------------------\n",
            "loss: 0.825675  [    0/60000]\n",
            "loss: 0.896010  [ 6400/60000]\n",
            "loss: 0.666346  [12800/60000]\n",
            "loss: 0.871860  [19200/60000]\n",
            "loss: 0.773030  [25600/60000]\n",
            "loss: 0.776380  [32000/60000]\n",
            "loss: 0.844824  [38400/60000]\n",
            "loss: 0.796191  [44800/60000]\n",
            "loss: 0.822335  [51200/60000]\n",
            "loss: 0.788506  [57600/60000]\n",
            "Test Error: \n",
            " Accuracy: 71.2%, Avg loss: 0.784125 \n",
            "\n",
            "Done!\n"
          ]
        }
      ]
    }
  ]
}
